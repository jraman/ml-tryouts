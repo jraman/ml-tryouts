{
 "cells": [
  {
   "cell_type": "markdown",
   "metadata": {},
   "source": [
    "# MNIST Beginner\n",
    "https://www.tensorflow.org/tutorials/quickstart/beginner"
   ]
  },
  {
   "cell_type": "code",
   "execution_count": 113,
   "metadata": {},
   "outputs": [],
   "source": [
    "import numpy as np\n",
    "import tensorflow as tf\n",
    "mnist = tf.keras.datasets.mnist"
   ]
  },
  {
   "cell_type": "code",
   "execution_count": 114,
   "metadata": {},
   "outputs": [],
   "source": [
    "# Load and prepare the MNIST dataset.\n",
    "(x_train, y_train), (x_test, y_test) = mnist.load_data()\n",
    "#  Convert the samples from integers to floating-point numbers in the range [0, 1.0]\n",
    "x_train, x_test = x_train / 255.0, x_test / 255.0"
   ]
  },
  {
   "cell_type": "code",
   "execution_count": 115,
   "metadata": {},
   "outputs": [
    {
     "data": {
      "text/plain": [
       "((60000, 28, 28), (60000,))"
      ]
     },
     "execution_count": 115,
     "metadata": {},
     "output_type": "execute_result"
    }
   ],
   "source": [
    "# training has 60,000 samples.  Each sample is a 28x28 B&W image.\n",
    "x_train.shape, y_train.shape"
   ]
  },
  {
   "cell_type": "code",
   "execution_count": 116,
   "metadata": {},
   "outputs": [
    {
     "data": {
      "text/plain": [
       "((10000, 28, 28), (10000,))"
      ]
     },
     "execution_count": 116,
     "metadata": {},
     "output_type": "execute_result"
    }
   ],
   "source": [
    "# test set has 10,000 samples.\n",
    "x_test.shape, y_test.shape"
   ]
  },
  {
   "cell_type": "code",
   "execution_count": 117,
   "metadata": {},
   "outputs": [
    {
     "data": {
      "text/plain": [
       "[(0, 5923, 9.871666666666666),\n",
       " (1, 6742, 11.236666666666666),\n",
       " (2, 5958, 9.93),\n",
       " (3, 6131, 10.218333333333334),\n",
       " (4, 5842, 9.736666666666666),\n",
       " (5, 5421, 9.035),\n",
       " (6, 5918, 9.863333333333333),\n",
       " (7, 6265, 10.441666666666666),\n",
       " (8, 5851, 9.751666666666667),\n",
       " (9, 5949, 9.915000000000001)]"
      ]
     },
     "execution_count": 117,
     "metadata": {},
     "output_type": "execute_result"
    }
   ],
   "source": [
    "# training data: labels, counts, and percentages\n",
    "l, c = np.unique(y_train, return_counts=True)\n",
    "list(zip(l, c, c / len(y_train) * 100))"
   ]
  },
  {
   "cell_type": "code",
   "execution_count": 118,
   "metadata": {},
   "outputs": [],
   "source": [
    "# For reproducable results, set the random seed.\n",
    "# Needs to be done prior to building the model\n",
    "tf.random.set_seed(0xfafa)"
   ]
  },
  {
   "cell_type": "code",
   "execution_count": 119,
   "metadata": {},
   "outputs": [],
   "source": [
    "# Build the tf.keras.Sequential model by stacking layers.\n",
    "model = tf.keras.models.Sequential([\n",
    "  tf.keras.layers.Flatten(input_shape=(28, 28)),\n",
    "  tf.keras.layers.Dense(128, activation='relu'),\n",
    "  tf.keras.layers.Dropout(0.2),\n",
    "  tf.keras.layers.Dense(10, activation='softmax')\n",
    "])"
   ]
  },
  {
   "cell_type": "code",
   "execution_count": 120,
   "metadata": {},
   "outputs": [
    {
     "name": "stdout",
     "output_type": "stream",
     "text": [
      "backend: tensorflow\n",
      "class_name: Sequential\n",
      "config:\n",
      "  layers:\n",
      "  - class_name: Flatten\n",
      "    config:\n",
      "      batch_input_shape: !!python/tuple\n",
      "      - null\n",
      "      - 28\n",
      "      - 28\n",
      "      data_format: channels_last\n",
      "      dtype: float32\n",
      "      name: flatten_4\n",
      "      trainable: true\n",
      "  - class_name: Dense\n",
      "    config:\n",
      "      activation: relu\n",
      "      activity_regularizer: null\n",
      "      bias_constraint: null\n",
      "      bias_initializer:\n",
      "        class_name: Zeros\n",
      "        config: {}\n",
      "      bias_regularizer: null\n",
      "      dtype: float32\n",
      "      kernel_constraint: null\n",
      "      kernel_initializer:\n",
      "        class_name: GlorotUniform\n",
      "        config:\n",
      "          seed: null\n",
      "      kernel_regularizer: null\n",
      "      name: dense_8\n",
      "      trainable: true\n",
      "      units: 128\n",
      "      use_bias: true\n",
      "  - class_name: Dropout\n",
      "    config:\n",
      "      dtype: float32\n",
      "      name: dropout_4\n",
      "      noise_shape: null\n",
      "      rate: 0.2\n",
      "      seed: null\n",
      "      trainable: true\n",
      "  - class_name: Dense\n",
      "    config:\n",
      "      activation: softmax\n",
      "      activity_regularizer: null\n",
      "      bias_constraint: null\n",
      "      bias_initializer:\n",
      "        class_name: Zeros\n",
      "        config: {}\n",
      "      bias_regularizer: null\n",
      "      dtype: float32\n",
      "      kernel_constraint: null\n",
      "      kernel_initializer:\n",
      "        class_name: GlorotUniform\n",
      "        config:\n",
      "          seed: null\n",
      "      kernel_regularizer: null\n",
      "      name: dense_9\n",
      "      trainable: true\n",
      "      units: 10\n",
      "      use_bias: true\n",
      "  name: sequential_4\n",
      "keras_version: 2.2.4-tf\n",
      "\n"
     ]
    }
   ],
   "source": [
    "print(model.to_yaml())"
   ]
  },
  {
   "cell_type": "code",
   "execution_count": 121,
   "metadata": {},
   "outputs": [
    {
     "data": {
      "text/plain": [
       "[<tensorflow.python.keras.layers.core.Flatten at 0x1504c95d0>,\n",
       " <tensorflow.python.keras.layers.core.Dense at 0x130d21590>,\n",
       " <tensorflow.python.keras.layers.core.Dropout at 0x130fc0090>,\n",
       " <tensorflow.python.keras.layers.core.Dense at 0x1326e9b10>]"
      ]
     },
     "execution_count": 121,
     "metadata": {},
     "output_type": "execute_result"
    }
   ],
   "source": [
    "model.layers"
   ]
  },
  {
   "cell_type": "code",
   "execution_count": 122,
   "metadata": {},
   "outputs": [
    {
     "data": {
      "text/plain": [
       "((None, 28, 28), (None, 784))"
      ]
     },
     "execution_count": 122,
     "metadata": {},
     "output_type": "execute_result"
    }
   ],
   "source": [
    "l0 = model.layers[0]\n",
    "l0.input_shape, l0.output_shape"
   ]
  },
  {
   "cell_type": "code",
   "execution_count": 123,
   "metadata": {},
   "outputs": [
    {
     "name": "stdout",
     "output_type": "stream",
     "text": [
      "input_shape: (None, 784), output_shape: (None, 128), activation: relu\n"
     ]
    },
    {
     "data": {
      "text/plain": [
       "([('dense_8/kernel:0', TensorShape([784, 128])),\n",
       "  ('dense_8/bias:0', TensorShape([128]))],\n",
       " [('dense_8/kernel:0', TensorShape([784, 128])),\n",
       "  ('dense_8/bias:0', TensorShape([128]))])"
      ]
     },
     "execution_count": 123,
     "metadata": {},
     "output_type": "execute_result"
    }
   ],
   "source": [
    "l1 = model.layers[1]\n",
    "print(f'input_shape: {l1.input_shape}, output_shape: {l1.output_shape}, activation: {l1.activation.__name__}')\n",
    "[(w.name, w.shape) for w in l1.weights], [(v.name, v.shape) for v in l1.variables]"
   ]
  },
  {
   "cell_type": "markdown",
   "metadata": {},
   "source": [
    "`weights` and `variables` are the same thing."
   ]
  },
  {
   "cell_type": "code",
   "execution_count": 124,
   "metadata": {},
   "outputs": [
    {
     "name": "stdout",
     "output_type": "stream",
     "text": [
      "tf.Tensor([-0.07438198  0.06026352 -0.06951502 -0.02914837], shape=(4,), dtype=float32)\n",
      "tf.Tensor([-0.07438198  0.06026352 -0.06951502 -0.02914837], shape=(4,), dtype=float32)\n"
     ]
    },
    {
     "data": {
      "text/plain": [
       "True"
      ]
     },
     "execution_count": 124,
     "metadata": {},
     "output_type": "execute_result"
    }
   ],
   "source": [
    "print(l1.weights[0][0][0:4])\n",
    "print(l1.variables[0][0][0:4])\n",
    "l1.weights == l1.variables"
   ]
  },
  {
   "cell_type": "code",
   "execution_count": 125,
   "metadata": {},
   "outputs": [
    {
     "name": "stdout",
     "output_type": "stream",
     "text": [
      "Bias sum: tf.Tensor(0.0, shape=(), dtype=float32) tf.Tensor(0.0, shape=(), dtype=float32)\n",
      "Weights sum: tf.Tensor(16.841835, shape=(), dtype=float32)\n"
     ]
    }
   ],
   "source": [
    "# Sum of the bias terms, obtained in two different ways\n",
    "print('Bias sum:', sum(l1.bias.value()), sum(l1.weights[1].value()))\n",
    "# Sum of the weights matrix\n",
    "print('Weights sum:', sum(sum(l1.weights[0].value())))"
   ]
  },
  {
   "cell_type": "code",
   "execution_count": 126,
   "metadata": {},
   "outputs": [
    {
     "name": "stdout",
     "output_type": "stream",
     "text": [
      "Error: You must compile your model before training/testing. Use `model.compile(optimizer, loss)`.\n",
      "weights have been created\n"
     ]
    }
   ],
   "source": [
    "try:\n",
    "    model._assert_compile_was_called()\n",
    "    print('model has been compiled')\n",
    "except RuntimeError as err:\n",
    "    print('Error:', err)\n",
    "try:\n",
    "    model._assert_weights_created()\n",
    "    print('weights have been created')\n",
    "except RuntimeError as err:\n",
    "    print(err)"
   ]
  },
  {
   "cell_type": "markdown",
   "metadata": {},
   "source": [
    "Compile the model."
   ]
  },
  {
   "cell_type": "code",
   "execution_count": 127,
   "metadata": {},
   "outputs": [],
   "source": [
    "model.compile(optimizer='adam',\n",
    "              loss='sparse_categorical_crossentropy',\n",
    "              metrics=['accuracy'])"
   ]
  },
  {
   "cell_type": "code",
   "execution_count": 128,
   "metadata": {},
   "outputs": [],
   "source": [
    "model._assert_compile_was_called()"
   ]
  },
  {
   "cell_type": "code",
   "execution_count": 129,
   "metadata": {},
   "outputs": [
    {
     "name": "stdout",
     "output_type": "stream",
     "text": [
      "Train on 60000 samples\n",
      "Epoch 1/5\n",
      "60000/60000 [==============================] - 3s 48us/sample - loss: 0.2941 - accuracy: 0.9137\n",
      "Epoch 2/5\n",
      "60000/60000 [==============================] - 3s 45us/sample - loss: 0.1428 - accuracy: 0.9576\n",
      "Epoch 3/5\n",
      "60000/60000 [==============================] - 3s 43us/sample - loss: 0.1076 - accuracy: 0.9667\n",
      "Epoch 4/5\n",
      "60000/60000 [==============================] - 3s 43us/sample - loss: 0.0865 - accuracy: 0.9734\n",
      "Epoch 5/5\n",
      "60000/60000 [==============================] - 3s 43us/sample - loss: 0.0738 - accuracy: 0.9771s - loss: 0.0738 - accuracy: \n"
     ]
    },
    {
     "data": {
      "text/plain": [
       "<tensorflow.python.keras.callbacks.History at 0x13114a8d0>"
      ]
     },
     "execution_count": 129,
     "metadata": {},
     "output_type": "execute_result"
    }
   ],
   "source": [
    "# Train the model.\n",
    "# If you run just this cell over and over again, then that amounts to\n",
    "# continuing from where you previously left off.\n",
    "model.fit(x_train, y_train, epochs=5)"
   ]
  },
  {
   "cell_type": "code",
   "execution_count": 130,
   "metadata": {},
   "outputs": [
    {
     "name": "stdout",
     "output_type": "stream",
     "text": [
      "Weights sum tf.Tensor(-536.99927, shape=(), dtype=float32)\n",
      "Bias sum tf.Tensor(2.0992267, shape=(), dtype=float32)\n"
     ]
    }
   ],
   "source": [
    "print('Weights sum', sum(sum(l1.weights[0].value())))\n",
    "print('Bias sum', sum(l1.weights[1].value()))"
   ]
  },
  {
   "cell_type": "code",
   "execution_count": 131,
   "metadata": {},
   "outputs": [
    {
     "name": "stdout",
     "output_type": "stream",
     "text": [
      "60000/1 - 2s - loss: 0.0226 - accuracy: 0.9878\n"
     ]
    },
    {
     "data": {
      "text/plain": [
       "[0.039811225586694976, 0.9877833]"
      ]
     },
     "execution_count": 131,
     "metadata": {},
     "output_type": "execute_result"
    }
   ],
   "source": [
    "# Evaluate on training data\n",
    "model.evaluate(x_train, y_train, verbose=2)"
   ]
  },
  {
   "cell_type": "code",
   "execution_count": 132,
   "metadata": {},
   "outputs": [
    {
     "name": "stdout",
     "output_type": "stream",
     "text": [
      "10000/1 - 0s - loss: 0.0377 - accuracy: 0.9766\n"
     ]
    },
    {
     "data": {
      "text/plain": [
       "[0.0740614623770467, 0.9766]"
      ]
     },
     "execution_count": 132,
     "metadata": {},
     "output_type": "execute_result"
    }
   ],
   "source": [
    "# Evaluate on test data\n",
    "model.evaluate(x_test, y_test, verbose=2)"
   ]
  },
  {
   "cell_type": "code",
   "execution_count": 133,
   "metadata": {},
   "outputs": [
    {
     "name": "stdout",
     "output_type": "stream",
     "text": [
      "Train on 60000 samples\n",
      "Epoch 1/4\n",
      "60000/60000 [==============================] - 3s 42us/sample - loss: 0.0642 - accuracy: 0.9799\n",
      "Epoch 2/4\n",
      "60000/60000 [==============================] - 3s 44us/sample - loss: 0.0567 - accuracy: 0.9814\n",
      "Epoch 3/4\n",
      "60000/60000 [==============================] - 3s 45us/sample - loss: 0.0508 - accuracy: 0.9834\n",
      "Epoch 4/4\n",
      "60000/60000 [==============================] - 3s 47us/sample - loss: 0.0479 - accuracy: 0.9842\n"
     ]
    },
    {
     "data": {
      "text/plain": [
       "<tensorflow.python.keras.callbacks.History at 0x132e98cd0>"
      ]
     },
     "execution_count": 133,
     "metadata": {},
     "output_type": "execute_result"
    }
   ],
   "source": [
    "# Running model.fit again, continues the training from where we left off\n",
    "model.fit(x_train, y_train, epochs=4)"
   ]
  },
  {
   "cell_type": "markdown",
   "metadata": {},
   "source": [
    "### TODO\n",
    " * Try different dropouts `range(0, 0.1, 1)`\n",
    " * Try different sizes for layer 1: `[64, 128, 256]`"
   ]
  }
 ],
 "metadata": {
  "kernelspec": {
   "display_name": "Python 3",
   "language": "python",
   "name": "python3"
  },
  "language_info": {
   "codemirror_mode": {
    "name": "ipython",
    "version": 3
   },
   "file_extension": ".py",
   "mimetype": "text/x-python",
   "name": "python",
   "nbconvert_exporter": "python",
   "pygments_lexer": "ipython3",
   "version": "3.7.4"
  }
 },
 "nbformat": 4,
 "nbformat_minor": 2
}
