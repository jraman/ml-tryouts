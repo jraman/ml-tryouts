{
  "nbformat": 4,
  "nbformat_minor": 0,
  "metadata": {
    "colab": {
      "name": "Colab Package Versions.ipynb",
      "provenance": [],
      "private_outputs": true,
      "authorship_tag": "ABX9TyOEZeZWdTrWeVdxQNya5HmQ",
      "include_colab_link": true
    },
    "kernelspec": {
      "name": "python3",
      "display_name": "Python 3"
    }
  },
  "cells": [
    {
      "cell_type": "markdown",
      "metadata": {
        "id": "view-in-github",
        "colab_type": "text"
      },
      "source": [
        "<a href=\"https://colab.research.google.com/github/jraman/tf2-tryouts/blob/master/colab.ipynb\" target=\"_parent\"><img src=\"https://colab.research.google.com/assets/colab-badge.svg\" alt=\"Open In Colab\"/></a>"
      ]
    },
    {
      "cell_type": "markdown",
      "metadata": {
        "id": "3eb64iwmFq6V",
        "colab_type": "text"
      },
      "source": [
        ""
      ]
    },
    {
      "cell_type": "code",
      "metadata": {
        "id": "FLKpHv6KFmPQ",
        "colab_type": "code",
        "colab": {}
      },
      "source": [
        "import sys\n",
        "print('python.version:', sys.version)\n",
        "print()\n",
        "import numpy\n",
        "print('numpy.version:', numpy.version.version)\n",
        "print()\n",
        "import torch\n",
        "print('torch.version:', torch.version.__version__)\n",
        "print('torch cuda:', torch.version.cuda)\n",
        "print('Cuda available?', torch.cuda.is_available())\n",
        "print()\n",
        "%tensorflow_version 2.x\n",
        "import tensorflow as tf\n",
        "print('tensorflow.version:', tf.version.VERSION)"
      ],
      "execution_count": 0,
      "outputs": []
    },
    {
      "cell_type": "code",
      "metadata": {
        "id": "2e4HGSzAF4qU",
        "colab_type": "code",
        "colab": {}
      },
      "source": [
        ""
      ],
      "execution_count": 0,
      "outputs": []
    }
  ]
}