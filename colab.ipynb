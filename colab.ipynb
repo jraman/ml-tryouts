{
 "cells": [
  {
   "cell_type": "markdown",
   "metadata": {
    "colab_type": "text",
    "id": "view-in-github"
   },
   "source": [
    "<a href=\"https://colab.research.google.com/github/jraman/tf2-tryouts/blob/master/colab.ipynb\" target=\"_parent\"><img src=\"https://colab.research.google.com/assets/colab-badge.svg\" alt=\"Open In Colab\"/></a>"
   ]
  },
  {
   "cell_type": "markdown",
   "metadata": {
    "colab_type": "text",
    "id": "3eb64iwmFq6V"
   },
   "source": [
    "# Package Versions on Colab"
   ]
  },
  {
   "cell_type": "code",
   "execution_count": null,
   "metadata": {
    "colab": {},
    "colab_type": "code",
    "id": "FLKpHv6KFmPQ"
   },
   "outputs": [],
   "source": [
    "import sys\n",
    "print('python.version:', sys.version)\n",
    "print()\n",
    "\n",
    "import numpy\n",
    "print('numpy.version:', numpy.__version__)\n",
    "print()\n",
    "\n",
    "import scipy\n",
    "print('scipy.version:', scipy.__version__)\n",
    "print()\n",
    "\n",
    "import pandas\n",
    "print('pandas.version:', pandas.__version__)\n",
    "print()\n",
    "\n",
    "import torch\n",
    "print('torch.version:', torch.__version__)\n",
    "print('torch cuda:', torch.version.cuda)\n",
    "print('Cuda available?', torch.cuda.is_available())\n",
    "print()\n",
    "\n",
    "try:\n",
    "    %tensorflow_version 2.x\n",
    "except:\n",
    "    pass\n",
    "import tensorflow as tf\n",
    "print('tensorflow.version:', tf.__version__)"
   ]
  },
  {
   "cell_type": "markdown",
   "metadata": {
    "colab": {},
    "colab_type": "code",
    "id": "2e4HGSzAF4qU"
   },
   "source": [
    "2020.02.05 on colab:\n",
    "```\n",
    "python.version: 3.6.9 (default, Nov  7 2019, 10:44:02) \n",
    "[GCC 8.3.0]\n",
    "\n",
    "numpy.version: 1.17.5\n",
    "\n",
    "scipy.version: 1.4.1\n",
    "\n",
    "pandas.version: 0.25.3\n",
    "\n",
    "torch.version: 1.4.0\n",
    "torch cuda: 10.1\n",
    "Cuda available? False\n",
    "\n",
    "tensorflow.version: 2.1.0\n",
    "```"
   ]
  },
  {
   "cell_type": "code",
   "execution_count": null,
   "metadata": {},
   "outputs": [],
   "source": []
  }
 ],
 "metadata": {
  "colab": {
   "authorship_tag": "ABX9TyOEZeZWdTrWeVdxQNya5HmQ",
   "include_colab_link": true,
   "name": "Colab Package Versions.ipynb",
   "private_outputs": true,
   "provenance": []
  },
  "kernelspec": {
   "display_name": "Python 3",
   "language": "python",
   "name": "python3"
  },
  "language_info": {
   "codemirror_mode": {
    "name": "ipython",
    "version": 3
   },
   "file_extension": ".py",
   "mimetype": "text/x-python",
   "name": "python",
   "nbconvert_exporter": "python",
   "pygments_lexer": "ipython3",
   "version": "3.7.4"
  },
  "toc": {
   "base_numbering": 1,
   "nav_menu": {},
   "number_sections": true,
   "sideBar": true,
   "skip_h1_title": false,
   "title_cell": "Table of Contents",
   "title_sidebar": "Contents",
   "toc_cell": false,
   "toc_position": {},
   "toc_section_display": true,
   "toc_window_display": false
  }
 },
 "nbformat": 4,
 "nbformat_minor": 1
}
